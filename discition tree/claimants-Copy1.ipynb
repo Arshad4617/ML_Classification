{
 "cells": [
  {
   "cell_type": "code",
   "execution_count": 1,
   "id": "852a5a87",
   "metadata": {},
   "outputs": [],
   "source": [
    "import numpy as np\n",
    "import pandas as pd\n",
    "import seaborn as sns\n",
    "import matplotlib.pyplot as plt\n",
    "import warnings\n",
    "warnings.filterwarnings('ignore')"
   ]
  },
  {
   "cell_type": "code",
   "execution_count": 2,
   "id": "0bdde89b",
   "metadata": {},
   "outputs": [],
   "source": [
    "claimants_data = pd.read_csv('claimants.csv')"
   ]
  },
  {
   "cell_type": "code",
   "execution_count": 3,
   "id": "6d32aaa9",
   "metadata": {},
   "outputs": [
    {
     "name": "stdout",
     "output_type": "stream",
     "text": [
      "<class 'pandas.core.frame.DataFrame'>\n",
      "RangeIndex: 1340 entries, 0 to 1339\n",
      "Data columns (total 7 columns):\n",
      " #   Column    Non-Null Count  Dtype  \n",
      "---  ------    --------------  -----  \n",
      " 0   CASENUM   1340 non-null   int64  \n",
      " 1   ATTORNEY  1340 non-null   int64  \n",
      " 2   CLMSEX    1328 non-null   float64\n",
      " 3   CLMINSUR  1299 non-null   float64\n",
      " 4   SEATBELT  1292 non-null   float64\n",
      " 5   CLMAGE    1151 non-null   float64\n",
      " 6   LOSS      1340 non-null   float64\n",
      "dtypes: float64(5), int64(2)\n",
      "memory usage: 73.4 KB\n"
     ]
    }
   ],
   "source": [
    "#data preparation\n",
    "claimants_data.info()"
   ]
  },
  {
   "cell_type": "code",
   "execution_count": 4,
   "id": "2b7c51d0",
   "metadata": {},
   "outputs": [],
   "source": [
    "del claimants_data['CASENUM']"
   ]
  },
  {
   "cell_type": "code",
   "execution_count": 5,
   "id": "a65a1159",
   "metadata": {},
   "outputs": [],
   "source": [
    "claimants_data.dropna(inplace=True)"
   ]
  },
  {
   "cell_type": "code",
   "execution_count": 6,
   "id": "c8d9f1f9",
   "metadata": {},
   "outputs": [
    {
     "name": "stdout",
     "output_type": "stream",
     "text": [
      "<class 'pandas.core.frame.DataFrame'>\n",
      "Int64Index: 1096 entries, 0 to 1339\n",
      "Data columns (total 6 columns):\n",
      " #   Column    Non-Null Count  Dtype  \n",
      "---  ------    --------------  -----  \n",
      " 0   ATTORNEY  1096 non-null   int64  \n",
      " 1   CLMSEX    1096 non-null   float64\n",
      " 2   CLMINSUR  1096 non-null   float64\n",
      " 3   SEATBELT  1096 non-null   float64\n",
      " 4   CLMAGE    1096 non-null   float64\n",
      " 5   LOSS      1096 non-null   float64\n",
      "dtypes: float64(5), int64(1)\n",
      "memory usage: 59.9 KB\n"
     ]
    }
   ],
   "source": [
    "claimants_data.info()"
   ]
  },
  {
   "cell_type": "code",
   "execution_count": 7,
   "id": "d9e7e967",
   "metadata": {},
   "outputs": [],
   "source": [
    "#model preparation\n",
    "X = claimants_data.drop(labels='ATTORNEY',axis=1)\n",
    "y = claimants_data[['ATTORNEY']]"
   ]
  },
  {
   "cell_type": "code",
   "execution_count": 8,
   "id": "91edaa68",
   "metadata": {},
   "outputs": [],
   "source": [
    "from sklearn.model_selection import train_test_split\n",
    "X_train, X_test, y_train, y_test = train_test_split(X,y, test_size=0.10, random_state=12)"
   ]
  },
  {
   "cell_type": "code",
   "execution_count": 90,
   "id": "1302c261",
   "metadata": {},
   "outputs": [
    {
     "data": {
      "text/plain": [
       "AdaBoostClassifier()"
      ]
     },
     "execution_count": 90,
     "metadata": {},
     "output_type": "execute_result"
    }
   ],
   "source": [
    "#model building\n",
    "from sklearn.tree import DecisionTreeClassifier\n",
    "decision_model = DecisionTreeClassifier()#max_depth=3\n",
    "decision_model.fit(X_train, y_train)\n",
    "\n",
    "from sklearn.ensemble import RandomForestClassifier,GradientBoostingClassifier,BaggingClassifier,AdaBoostClassifier\n",
    "rf_model = RandomForestClassifier()#bootstrap= False, max_depth = 4, max_features = 'auto',n_estimators = 6\n",
    "rf_model.fit(X_train, y_train)\n",
    "\n",
    "gb_model = GradientBoostingClassifier()\n",
    "gb_model.fit(X_train, y_train)\n",
    "\n",
    "bg_model = BaggingClassifier()\n",
    "bg_model.fit(X_train, y_train)\n",
    "\n",
    "ad_model = AdaBoostClassifier()\n",
    "ad_model.fit(X_train, y_train)"
   ]
  },
  {
   "cell_type": "code",
   "execution_count": 91,
   "id": "45238d2b",
   "metadata": {},
   "outputs": [],
   "source": [
    "y_pred_train_dt = decision_model.predict(X_train)\n",
    "y_pred_test_dt = decision_model.predict(X_test)"
   ]
  },
  {
   "cell_type": "code",
   "execution_count": 92,
   "id": "61d15763",
   "metadata": {},
   "outputs": [],
   "source": [
    "y_pred_train_rf = rf_model.predict(X_train)\n",
    "y_pred_test_rf = rf_model.predict(X_test)"
   ]
  },
  {
   "cell_type": "code",
   "execution_count": 93,
   "id": "0f80d433",
   "metadata": {},
   "outputs": [],
   "source": [
    "y_pred_train_bg = bg_model.predict(X_train)\n",
    "y_pred_test_bg = bg_model.predict(X_test)"
   ]
  },
  {
   "cell_type": "code",
   "execution_count": 94,
   "id": "3bde2249",
   "metadata": {},
   "outputs": [],
   "source": [
    "y_pred_train_ad = ad_model.predict(X_train)\n",
    "y_pred_test_ad = ad_model.predict(X_test)"
   ]
  },
  {
   "cell_type": "code",
   "execution_count": 95,
   "id": "21767121",
   "metadata": {},
   "outputs": [],
   "source": [
    "y_pred_train_gb = gb_model.predict(X_train)\n",
    "y_pred_test_gb = gb_model.predict(X_test)"
   ]
  },
  {
   "cell_type": "code",
   "execution_count": 96,
   "id": "009d4c7b",
   "metadata": {},
   "outputs": [],
   "source": [
    "# model evalueation\n",
    "from sklearn.metrics import accuracy_score,confusion_matrix,classification_report,precision_score"
   ]
  },
  {
   "cell_type": "code",
   "execution_count": 97,
   "id": "866f2f29",
   "metadata": {
    "scrolled": true
   },
   "outputs": [
    {
     "data": {
      "text/plain": [
       "0.962474645030426"
      ]
     },
     "execution_count": 97,
     "metadata": {},
     "output_type": "execute_result"
    }
   ],
   "source": [
    "accuracy_score(y_train, y_pred_train_bg)"
   ]
  },
  {
   "cell_type": "code",
   "execution_count": 98,
   "id": "0102ef6d",
   "metadata": {},
   "outputs": [
    {
     "data": {
      "text/plain": [
       "0.9959432048681541"
      ]
     },
     "execution_count": 98,
     "metadata": {},
     "output_type": "execute_result"
    }
   ],
   "source": [
    "accuracy_score(y_train, y_pred_train_dt)"
   ]
  },
  {
   "cell_type": "code",
   "execution_count": 44,
   "id": "c8b52a34",
   "metadata": {},
   "outputs": [
    {
     "data": {
      "text/plain": [
       "0.7971602434077079"
      ]
     },
     "execution_count": 44,
     "metadata": {},
     "output_type": "execute_result"
    }
   ],
   "source": [
    "accuracy_score(y_train, y_pred_train_gb)"
   ]
  },
  {
   "cell_type": "code",
   "execution_count": 45,
   "id": "ca402580",
   "metadata": {},
   "outputs": [
    {
     "data": {
      "text/plain": [
       "0.9949290060851927"
      ]
     },
     "execution_count": 45,
     "metadata": {},
     "output_type": "execute_result"
    }
   ],
   "source": [
    "accuracy_score(y_train, y_pred_train_rf)"
   ]
  },
  {
   "cell_type": "code",
   "execution_count": 46,
   "id": "6eb51273",
   "metadata": {
    "scrolled": true
   },
   "outputs": [
    {
     "data": {
      "text/plain": [
       "0.7474645030425964"
      ]
     },
     "execution_count": 46,
     "metadata": {},
     "output_type": "execute_result"
    }
   ],
   "source": [
    "accuracy_score(y_train, y_pred_train_ad)"
   ]
  },
  {
   "cell_type": "code",
   "execution_count": 47,
   "id": "ff919882",
   "metadata": {
    "scrolled": false
   },
   "outputs": [
    {
     "data": {
      "text/plain": [
       "0.6727272727272727"
      ]
     },
     "execution_count": 47,
     "metadata": {},
     "output_type": "execute_result"
    }
   ],
   "source": [
    "accuracy_score(y_test, y_pred_test_ad)"
   ]
  },
  {
   "cell_type": "code",
   "execution_count": 100,
   "id": "ce162b0f",
   "metadata": {},
   "outputs": [
    {
     "data": {
      "text/plain": [
       "0.6"
      ]
     },
     "execution_count": 100,
     "metadata": {},
     "output_type": "execute_result"
    }
   ],
   "source": [
    "accuracy_score(y_test, y_pred_test_bg)"
   ]
  },
  {
   "cell_type": "code",
   "execution_count": 101,
   "id": "17946a63",
   "metadata": {},
   "outputs": [
    {
     "data": {
      "text/plain": [
       "0.5727272727272728"
      ]
     },
     "execution_count": 101,
     "metadata": {},
     "output_type": "execute_result"
    }
   ],
   "source": [
    "accuracy_score(y_test, y_pred_test_dt)"
   ]
  },
  {
   "cell_type": "code",
   "execution_count": 50,
   "id": "390c41bb",
   "metadata": {},
   "outputs": [
    {
     "data": {
      "text/plain": [
       "0.6636363636363637"
      ]
     },
     "execution_count": 50,
     "metadata": {},
     "output_type": "execute_result"
    }
   ],
   "source": [
    "accuracy_score(y_test, y_pred_test_gb)"
   ]
  },
  {
   "cell_type": "code",
   "execution_count": 51,
   "id": "69bb408e",
   "metadata": {
    "scrolled": true
   },
   "outputs": [
    {
     "data": {
      "text/plain": [
       "0.6454545454545455"
      ]
     },
     "execution_count": 51,
     "metadata": {},
     "output_type": "execute_result"
    }
   ],
   "source": [
    "accuracy_score(y_test, y_pred_test_rf)"
   ]
  },
  {
   "cell_type": "code",
   "execution_count": 54,
   "id": "0a7fbf43",
   "metadata": {},
   "outputs": [
    {
     "name": "stdout",
     "output_type": "stream",
     "text": [
      "              precision    recall  f1-score   support\n",
      "\n",
      "           0       0.97      0.98      0.98       521\n",
      "           1       0.98      0.96      0.97       465\n",
      "\n",
      "    accuracy                           0.97       986\n",
      "   macro avg       0.98      0.97      0.97       986\n",
      "weighted avg       0.97      0.97      0.97       986\n",
      "\n"
     ]
    }
   ],
   "source": [
    "print(classification_report(y_train, y_pred_train_bg))"
   ]
  },
  {
   "cell_type": "code",
   "execution_count": 17,
   "id": "497ae834",
   "metadata": {},
   "outputs": [],
   "source": [
    "# from sklearn.model_selection import RandomizedSearchCV\n",
    "# rand_search = RandomizedSearchCV(estimator=rf_model,param_distributions={'n_estimators': np.arange(200),\n",
    "#                'max_features': ['auto', 'sqrt'],\n",
    "#                'max_depth': np.arange(1000),\n",
    "#                'min_samples_split': np.arange(20),\n",
    "#                'min_samples_leaf': np.arange(20),\n",
    "#                'bootstrap': [True, False]})"
   ]
  },
  {
   "cell_type": "code",
   "execution_count": 38,
   "id": "cb5f3625",
   "metadata": {
    "scrolled": true
   },
   "outputs": [
    {
     "data": {
      "text/plain": [
       "GridSearchCV(estimator=RandomForestClassifier(max_depth=3, n_estimators=13),\n",
       "             param_grid={'bootstrap': [True, False],\n",
       "                         'max_depth': array([ 0,  1,  2,  3,  4,  5,  6,  7,  8,  9, 10, 11, 12, 13, 14, 15, 16,\n",
       "       17, 18, 19]),\n",
       "                         'max_features': ['auto', 'sqrt'],\n",
       "                         'n_estimators': array([ 0,  1,  2,  3,  4,  5,  6,  7,  8,  9, 10, 11, 12, 13, 14, 15, 16,\n",
       "       17, 18, 19])})"
      ]
     },
     "execution_count": 38,
     "metadata": {},
     "output_type": "execute_result"
    }
   ],
   "source": [
    "# from sklearn.model_selection import GridSearchCV\n",
    "# grid_search = GridSearchCV(estimator=rf_model,\n",
    "#                            param_grid={'n_estimators': np.arange(20),'max_depth': np.arange(20),\n",
    "#                                       'bootstrap': [True, False],\n",
    "#                                       'max_features': ['auto', 'sqrt']})\n",
    "# grid_search.fit(X_train, y_train)\n",
    "# #                'min_samples_split': np.arange(20),\n",
    "# #                'min_samples_leaf': np.arange(20),\n"
   ]
  },
  {
   "cell_type": "code",
   "execution_count": 21,
   "id": "901b6d86",
   "metadata": {},
   "outputs": [
    {
     "data": {
      "text/plain": [
       "GridSearchCV(estimator=DecisionTreeClassifier(max_depth=3),\n",
       "             param_grid={'criterion': ['gini', 'entropy'],\n",
       "                         'max_depth': array([ 0,  1,  2,  3,  4,  5,  6,  7,  8,  9, 10, 11, 12, 13, 14, 15, 16,\n",
       "       17, 18, 19])})"
      ]
     },
     "execution_count": 21,
     "metadata": {},
     "output_type": "execute_result"
    }
   ],
   "source": [
    "from sklearn.model_selection import GridSearchCV\n",
    "grid_search = GridSearchCV(estimator=decision_model,\n",
    "                           param_grid={'criterion':['gini','entropy'],'max_depth': np.arange(20)})\n",
    "grid_search.fit(X_train, y_train)"
   ]
  },
  {
   "cell_type": "code",
   "execution_count": 39,
   "id": "9d29ac3b",
   "metadata": {
    "scrolled": true
   },
   "outputs": [
    {
     "data": {
      "text/plain": [
       "{'bootstrap': False, 'max_depth': 4, 'max_features': 'auto', 'n_estimators': 6}"
      ]
     },
     "execution_count": 39,
     "metadata": {},
     "output_type": "execute_result"
    }
   ],
   "source": [
    "grid_search.best_params_"
   ]
  },
  {
   "cell_type": "code",
   "execution_count": 40,
   "id": "6ddf26d7",
   "metadata": {},
   "outputs": [
    {
     "data": {
      "text/plain": [
       "0.7413987591652565"
      ]
     },
     "execution_count": 40,
     "metadata": {},
     "output_type": "execute_result"
    }
   ],
   "source": [
    "grid_search.best_score_"
   ]
  },
  {
   "cell_type": "code",
   "execution_count": 61,
   "id": "1f29c6a3",
   "metadata": {},
   "outputs": [],
   "source": [
    "from sklearn.ensemble import VotingClassifier"
   ]
  },
  {
   "cell_type": "code",
   "execution_count": 74,
   "id": "bf0d97c2",
   "metadata": {},
   "outputs": [
    {
     "data": {
      "text/plain": [
       "VotingClassifier(estimators=[('rf_model', RandomForestClassifier()),\n",
       "                             ('dt_model', DecisionTreeClassifier()),\n",
       "                             ('ad_booster', AdaBoostClassifier()),\n",
       "                             ('bg_model', BaggingClassifier()),\n",
       "                             ('gb_model', GradientBoostingClassifier())])"
      ]
     },
     "execution_count": 74,
     "metadata": {},
     "output_type": "execute_result"
    }
   ],
   "source": [
    "stacking_model = VotingClassifier(estimators = [('rf_model',RandomForestClassifier()),\n",
    "                               ('dt_model',DecisionTreeClassifier()),\n",
    "                               ('ad_booster',AdaBoostClassifier()),\n",
    "                               ('bg_model',BaggingClassifier()),\n",
    "                               ('gb_model',GradientBoostingClassifier())])\n",
    "# estimators = [('dt_model',DecisionTreeClassifier()),\n",
    "#                                      ('rf_model',RandomForestClassifier()),\n",
    "#                                      ('ad_booster',AdaBoostClassifier()),\n",
    "#                                      ('bg_model',BaggingClassifier()),\n",
    "#                                      ('gb_model',GradientBoostingClassifier())]\n",
    "stacking_model.fit(X_train, y_train)"
   ]
  },
  {
   "cell_type": "code",
   "execution_count": 75,
   "id": "a0437589",
   "metadata": {},
   "outputs": [],
   "source": [
    "y_pred_test = stacking_model.predict(X_test)"
   ]
  },
  {
   "cell_type": "code",
   "execution_count": 76,
   "id": "926cc976",
   "metadata": {},
   "outputs": [
    {
     "data": {
      "text/plain": [
       "0.6727272727272727"
      ]
     },
     "execution_count": 76,
     "metadata": {},
     "output_type": "execute_result"
    }
   ],
   "source": [
    "accuracy_score(y_test,y_pred_test)"
   ]
  },
  {
   "cell_type": "code",
   "execution_count": 89,
   "id": "9fce5470",
   "metadata": {},
   "outputs": [
    {
     "data": {
      "text/plain": [
       "0.6727272727272727"
      ]
     },
     "execution_count": 89,
     "metadata": {},
     "output_type": "execute_result"
    }
   ],
   "source": [
    "stacking_model.score(X_test, y_test)"
   ]
  },
  {
   "cell_type": "code",
   "execution_count": null,
   "id": "d07c4d57",
   "metadata": {},
   "outputs": [],
   "source": []
  }
 ],
 "metadata": {
  "kernelspec": {
   "display_name": "Python 3",
   "language": "python",
   "name": "python3"
  },
  "language_info": {
   "codemirror_mode": {
    "name": "ipython",
    "version": 3
   },
   "file_extension": ".py",
   "mimetype": "text/x-python",
   "name": "python",
   "nbconvert_exporter": "python",
   "pygments_lexer": "ipython3",
   "version": "3.8.8"
  }
 },
 "nbformat": 4,
 "nbformat_minor": 5
}
